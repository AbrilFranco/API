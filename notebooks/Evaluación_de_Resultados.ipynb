{
 "cells": [
  {
   "cell_type": "markdown",
   "id": "aedd4494-3910-475d-9455-4972abbe0b45",
   "metadata": {},
   "source": [
    "# Evaluación de Resultados"
   ]
  },
  {
   "cell_type": "code",
   "execution_count": 1,
   "id": "102b7eb3-e147-45b7-8c41-e7ed6e869e6e",
   "metadata": {},
   "outputs": [],
   "source": [
    "import arff\n",
    "import pandas as pd\n",
    "import numpy as np\n",
    "from sklearn.model_selection import train_test_split\n",
    "from sklearn.compose import ColumnTransformer\n",
    "from sklearn.preprocessing import OneHotEncoder\n",
    "from sklearn.pipeline import Pipeline\n",
    "from sklearn.impute import SimpleImputer\n",
    "from sklearn.preprocessing import RobustScaler\n",
    "from sklearn.base import BaseEstimator, TransformerMixin"
   ]
  },
  {
   "cell_type": "code",
   "execution_count": 2,
   "id": "c94dbcb2-cb7a-49e9-9e2b-5412f098e0cf",
   "metadata": {},
   "outputs": [],
   "source": [
    "def load_kdd_dataset(data_path):\n",
    "    \"\"\"Lectura del DataSet NSL-KDD.\"\"\"\n",
    "    with open(data_path, 'r') as train_set:\n",
    "        dataset = arff.load(train_set)\n",
    "    attributes = [attr[0] for attr in dataset['attributes']]\n",
    "    return pd.DataFrame(dataset['data'], columns = attributes)"
   ]
  },
  {
   "cell_type": "code",
   "execution_count": 3,
   "id": "b82da65b-38b4-47ee-81df-c36d511eaa64",
   "metadata": {},
   "outputs": [],
   "source": [
    "def train_val_test_split(df, rstate=42, shuffle=True, stratify=None):\n",
    "    strat = df[stratify] if stratify else None\n",
    "    train_set, test_set = train_test_split(\n",
    "        df, test_size=0.4, random_state=rstate, shuffle=shuffle, stratify=strat)\n",
    "    strat = test_set[stratify] if stratify else None\n",
    "    val_set, test_set = train_test_split(\n",
    "        test_set, test_size=0.5, random_state=rstate, shuffle=shuffle, stratify=strat)\n",
    "    return (train_set, val_set, test_set)"
   ]
  },
  {
   "cell_type": "code",
   "execution_count": 4,
   "id": "2b85f4eb-990c-404d-9b11-e1df28f6ca11",
   "metadata": {},
   "outputs": [],
   "source": [
    "# Construcción de un Pipeline para los atributos númericos\n",
    "num_pipeline = Pipeline([\n",
    "    ('Category', SimpleImputer(strategy=\"median\")),\n",
    "    ('rbst_scaler', RobustScaler()),\n",
    "])"
   ]
  },
  {
   "cell_type": "code",
   "execution_count": 5,
   "id": "7ebc055a-0269-43d7-8b4f-6b3d0feb8825",
   "metadata": {},
   "outputs": [],
   "source": [
    "# Trasnformador para codificar únicamente las columnas categóricas y devolver un DataFrame.\n",
    "class CustomOneHotEncoder(BaseEstimator, TransformerMixin):\n",
    "    def __init__(self):\n",
    "        self._oh = OneHotEncoder(sparse_output=False)\n",
    "        self._columns = None\n",
    "    def fit(self, X, y = None):\n",
    "        X_cat = X.select_dtypes(include=['object'])\n",
    "        self._columns = pd.get_dummies(X_cat).columns\n",
    "        self._oh.fit(X_cat)\n",
    "        return self\n",
    "    def transform(self, X, y = None):\n",
    "        X_copy = X.copy()\n",
    "        X_cat = X_copy.select_dtypes(include = ['object'])\n",
    "        X_num = X_copy.select_dtypes(exclude = ['object'])\n",
    "        X_cat_oh = self._oh.transform(X_cat)\n",
    "        X_cat_oh = pd.DataFrame(X_cat_oh,\n",
    "                               columns = self._columns,\n",
    "                               index = X_copy.index)\n",
    "        X_copy.drop(list(X_cat), axis=1, inplace=True)\n",
    "        return X_copy.join(X_cat_oh)"
   ]
  },
  {
   "cell_type": "code",
   "execution_count": 6,
   "id": "1f4fc63b-cfee-4c71-9b3b-cf30e15dc270",
   "metadata": {},
   "outputs": [],
   "source": [
    "# Trasnformador que prepara todo el DataSet llamado Pipelines y Transformadores personalizados.\n",
    "class DataFramePreparer(BaseEstimator, TransformerMixin):\n",
    "    def __init__(self):\n",
    "        self._full_pipeline = None\n",
    "        self._columns = None\n",
    "    def fit(self, X, y = None):\n",
    "        num_attribs = list(X.select_dtypes(exclude = ['object']))\n",
    "        cat_attribs = list(X.select_dtypes(include = ['object']))\n",
    "        self._full_pipeline = ColumnTransformer([\n",
    "            (\"num\", num_pipeline, num_attribs),\n",
    "            (\"cat\", CustomOneHotEncoder(), cat_attribs),\n",
    "        ])\n",
    "        self._full_pipeline.fit(X)\n",
    "        self._columns = pd.get_dummies(X).columns\n",
    "        return self\n",
    "    def transform(self, X, y = None):\n",
    "        X_copy = X.copy()\n",
    "        X_prep = self._full_pipeline.transform(X_copy)\n",
    "        return pd.DataFrame(X_prep,\n",
    "                           columns = self._columns,\n",
    "                           index = X_copy.index)"
   ]
  },
  {
   "cell_type": "code",
   "execution_count": null,
   "id": "0b02ee4c-6e5f-4c8c-bcde-65872b004304",
   "metadata": {},
   "outputs": [],
   "source": []
  },
  {
   "cell_type": "code",
   "execution_count": null,
   "id": "84eb7572-4989-4391-9392-4379f2e2b5e7",
   "metadata": {},
   "outputs": [],
   "source": []
  },
  {
   "cell_type": "code",
   "execution_count": 7,
   "id": "d64d15e8-4e17-43be-85d8-26a95b6aa268",
   "metadata": {},
   "outputs": [],
   "source": [
    "# Leer el dataset\n",
    "file_path = '/home/abril/anaconda3/envs/Simulacion/datasets/datasets/sales_dataset_50000.csv'  \n",
    "data = pd.read_csv(file_path)"
   ]
  },
  {
   "cell_type": "code",
   "execution_count": 8,
   "id": "52ce13d9-099d-45dc-809f-226fc123604c",
   "metadata": {},
   "outputs": [
    {
     "data": {
      "text/html": [
       "<div>\n",
       "<style scoped>\n",
       "    .dataframe tbody tr th:only-of-type {\n",
       "        vertical-align: middle;\n",
       "    }\n",
       "\n",
       "    .dataframe tbody tr th {\n",
       "        vertical-align: top;\n",
       "    }\n",
       "\n",
       "    .dataframe thead th {\n",
       "        text-align: right;\n",
       "    }\n",
       "</style>\n",
       "<table border=\"1\" class=\"dataframe\">\n",
       "  <thead>\n",
       "    <tr style=\"text-align: right;\">\n",
       "      <th></th>\n",
       "      <th>Transaction_ID</th>\n",
       "      <th>Date</th>\n",
       "      <th>Product</th>\n",
       "      <th>Category</th>\n",
       "      <th>Quantity_Sold</th>\n",
       "      <th>Unit_Price</th>\n",
       "      <th>Discount</th>\n",
       "      <th>Region</th>\n",
       "      <th>Payment_Method</th>\n",
       "      <th>Total</th>\n",
       "    </tr>\n",
       "  </thead>\n",
       "  <tbody>\n",
       "    <tr>\n",
       "      <th>0</th>\n",
       "      <td>4c98f095-7aa9-4e73-a94b-a79e84c83cc7</td>\n",
       "      <td>2024-12-07</td>\n",
       "      <td>Smartphone</td>\n",
       "      <td>Electronics</td>\n",
       "      <td>9</td>\n",
       "      <td>958.94</td>\n",
       "      <td>0.15</td>\n",
       "      <td>South</td>\n",
       "      <td>Cash</td>\n",
       "      <td>7335.89</td>\n",
       "    </tr>\n",
       "    <tr>\n",
       "      <th>1</th>\n",
       "      <td>68ff3320-6da2-4747-8851-b6aa687445ab</td>\n",
       "      <td>2023-05-10</td>\n",
       "      <td>Monitor</td>\n",
       "      <td>Peripherals</td>\n",
       "      <td>4</td>\n",
       "      <td>1045.36</td>\n",
       "      <td>0.39</td>\n",
       "      <td>North</td>\n",
       "      <td>Credit Card</td>\n",
       "      <td>2550.68</td>\n",
       "    </tr>\n",
       "    <tr>\n",
       "      <th>2</th>\n",
       "      <td>b48d6d6a-fdf3-4f0d-9da5-6c511bf016d5</td>\n",
       "      <td>2024-03-02</td>\n",
       "      <td>Laptop</td>\n",
       "      <td>Electronics</td>\n",
       "      <td>7</td>\n",
       "      <td>1929.63</td>\n",
       "      <td>0.49</td>\n",
       "      <td>West</td>\n",
       "      <td>Credit Card</td>\n",
       "      <td>6888.78</td>\n",
       "    </tr>\n",
       "    <tr>\n",
       "      <th>3</th>\n",
       "      <td>ac017db5-a08e-471c-a685-bec091e29345</td>\n",
       "      <td>2023-12-01</td>\n",
       "      <td>Headphones</td>\n",
       "      <td>Accessories</td>\n",
       "      <td>9</td>\n",
       "      <td>710.64</td>\n",
       "      <td>0.41</td>\n",
       "      <td>West</td>\n",
       "      <td>Credit Card</td>\n",
       "      <td>3773.50</td>\n",
       "    </tr>\n",
       "    <tr>\n",
       "      <th>4</th>\n",
       "      <td>571c3ded-3a36-451b-940a-dd489d1c303b</td>\n",
       "      <td>2024-12-31</td>\n",
       "      <td>Tablet</td>\n",
       "      <td>Electronics</td>\n",
       "      <td>2</td>\n",
       "      <td>14.76</td>\n",
       "      <td>0.01</td>\n",
       "      <td>East</td>\n",
       "      <td>Cash</td>\n",
       "      <td>29.22</td>\n",
       "    </tr>\n",
       "    <tr>\n",
       "      <th>...</th>\n",
       "      <td>...</td>\n",
       "      <td>...</td>\n",
       "      <td>...</td>\n",
       "      <td>...</td>\n",
       "      <td>...</td>\n",
       "      <td>...</td>\n",
       "      <td>...</td>\n",
       "      <td>...</td>\n",
       "      <td>...</td>\n",
       "      <td>...</td>\n",
       "    </tr>\n",
       "    <tr>\n",
       "      <th>49995</th>\n",
       "      <td>8593e5c4-ebda-4003-bf66-3f256fd915de</td>\n",
       "      <td>2024-11-07</td>\n",
       "      <td>Keyboard</td>\n",
       "      <td>Accessories</td>\n",
       "      <td>7</td>\n",
       "      <td>318.21</td>\n",
       "      <td>0.12</td>\n",
       "      <td>West</td>\n",
       "      <td>Cash</td>\n",
       "      <td>1960.17</td>\n",
       "    </tr>\n",
       "    <tr>\n",
       "      <th>49996</th>\n",
       "      <td>ee6933c4-c88f-4618-8486-721a3bcc0ad0</td>\n",
       "      <td>2023-12-14</td>\n",
       "      <td>Laptop</td>\n",
       "      <td>Accessories</td>\n",
       "      <td>8</td>\n",
       "      <td>1225.89</td>\n",
       "      <td>0.33</td>\n",
       "      <td>South</td>\n",
       "      <td>Bank Transfer</td>\n",
       "      <td>6570.77</td>\n",
       "    </tr>\n",
       "    <tr>\n",
       "      <th>49997</th>\n",
       "      <td>28a576ad-b0b8-4958-b17c-20f8bbabf2d4</td>\n",
       "      <td>2023-07-25</td>\n",
       "      <td>Headphones</td>\n",
       "      <td>Accessories</td>\n",
       "      <td>4</td>\n",
       "      <td>1308.80</td>\n",
       "      <td>0.26</td>\n",
       "      <td>West</td>\n",
       "      <td>Bank Transfer</td>\n",
       "      <td>3874.05</td>\n",
       "    </tr>\n",
       "    <tr>\n",
       "      <th>49998</th>\n",
       "      <td>ee8f8bab-4e4d-47c7-9fc7-4a0d54481a19</td>\n",
       "      <td>2024-09-07</td>\n",
       "      <td>Headphones</td>\n",
       "      <td>Electronics</td>\n",
       "      <td>4</td>\n",
       "      <td>1447.92</td>\n",
       "      <td>0.03</td>\n",
       "      <td>West</td>\n",
       "      <td>Bank Transfer</td>\n",
       "      <td>5617.93</td>\n",
       "    </tr>\n",
       "    <tr>\n",
       "      <th>49999</th>\n",
       "      <td>03dc9a60-16e3-469c-b7e9-9d30bcadb28f</td>\n",
       "      <td>2024-06-19</td>\n",
       "      <td>Keyboard</td>\n",
       "      <td>Electronics</td>\n",
       "      <td>2</td>\n",
       "      <td>1266.30</td>\n",
       "      <td>0.04</td>\n",
       "      <td>West</td>\n",
       "      <td>Credit Card</td>\n",
       "      <td>2431.30</td>\n",
       "    </tr>\n",
       "  </tbody>\n",
       "</table>\n",
       "<p>50000 rows × 10 columns</p>\n",
       "</div>"
      ],
      "text/plain": [
       "                             Transaction_ID        Date     Product  \\\n",
       "0      4c98f095-7aa9-4e73-a94b-a79e84c83cc7  2024-12-07  Smartphone   \n",
       "1      68ff3320-6da2-4747-8851-b6aa687445ab  2023-05-10     Monitor   \n",
       "2      b48d6d6a-fdf3-4f0d-9da5-6c511bf016d5  2024-03-02      Laptop   \n",
       "3      ac017db5-a08e-471c-a685-bec091e29345  2023-12-01  Headphones   \n",
       "4      571c3ded-3a36-451b-940a-dd489d1c303b  2024-12-31      Tablet   \n",
       "...                                     ...         ...         ...   \n",
       "49995  8593e5c4-ebda-4003-bf66-3f256fd915de  2024-11-07    Keyboard   \n",
       "49996  ee6933c4-c88f-4618-8486-721a3bcc0ad0  2023-12-14      Laptop   \n",
       "49997  28a576ad-b0b8-4958-b17c-20f8bbabf2d4  2023-07-25  Headphones   \n",
       "49998  ee8f8bab-4e4d-47c7-9fc7-4a0d54481a19  2024-09-07  Headphones   \n",
       "49999  03dc9a60-16e3-469c-b7e9-9d30bcadb28f  2024-06-19    Keyboard   \n",
       "\n",
       "          Category  Quantity_Sold  Unit_Price  Discount Region Payment_Method  \\\n",
       "0      Electronics              9      958.94      0.15  South           Cash   \n",
       "1      Peripherals              4     1045.36      0.39  North    Credit Card   \n",
       "2      Electronics              7     1929.63      0.49   West    Credit Card   \n",
       "3      Accessories              9      710.64      0.41   West    Credit Card   \n",
       "4      Electronics              2       14.76      0.01   East           Cash   \n",
       "...            ...            ...         ...       ...    ...            ...   \n",
       "49995  Accessories              7      318.21      0.12   West           Cash   \n",
       "49996  Accessories              8     1225.89      0.33  South  Bank Transfer   \n",
       "49997  Accessories              4     1308.80      0.26   West  Bank Transfer   \n",
       "49998  Electronics              4     1447.92      0.03   West  Bank Transfer   \n",
       "49999  Electronics              2     1266.30      0.04   West    Credit Card   \n",
       "\n",
       "         Total  \n",
       "0      7335.89  \n",
       "1      2550.68  \n",
       "2      6888.78  \n",
       "3      3773.50  \n",
       "4        29.22  \n",
       "...        ...  \n",
       "49995  1960.17  \n",
       "49996  6570.77  \n",
       "49997  3874.05  \n",
       "49998  5617.93  \n",
       "49999  2431.30  \n",
       "\n",
       "[50000 rows x 10 columns]"
      ]
     },
     "execution_count": 8,
     "metadata": {},
     "output_type": "execute_result"
    }
   ],
   "source": [
    "data"
   ]
  },
  {
   "cell_type": "code",
   "execution_count": 9,
   "id": "89098299-c181-43ce-bc2e-c12c1a74a720",
   "metadata": {},
   "outputs": [],
   "source": [
    "train_set, val_set, test_set = train_val_test_split(data)"
   ]
  },
  {
   "cell_type": "code",
   "execution_count": 10,
   "id": "bb668c3c-1b4b-4355-b962-72acdab6f74c",
   "metadata": {},
   "outputs": [
    {
     "name": "stdout",
     "output_type": "stream",
     "text": [
      "Longitud del Training Set 30000\n",
      "Longitud del Validation 10000\n",
      "Longitud del Test Set 10000\n"
     ]
    }
   ],
   "source": [
    "print('Longitud del Training Set', len(train_set))\n",
    "print('Longitud del Validation', len(val_set))\n",
    "print('Longitud del Test Set', len(test_set))"
   ]
  },
  {
   "cell_type": "code",
   "execution_count": 11,
   "id": "7f220875-6988-4754-96d1-82ca3ce95522",
   "metadata": {},
   "outputs": [],
   "source": [
    "# DataSet General\n",
    "X_data = data.drop(\"Product\", axis = 1)\n",
    "y_data = data[\"Product\"].copy()"
   ]
  },
  {
   "cell_type": "code",
   "execution_count": 12,
   "id": "6fbf16ab-278c-41e4-8913-163777ee8e34",
   "metadata": {},
   "outputs": [],
   "source": [
    "# DataSet de Entrenamiento\n",
    "X_train = train_set.drop(\"Product\", axis = 1)\n",
    "y_train = train_set[\"Product\"].copy()"
   ]
  },
  {
   "cell_type": "code",
   "execution_count": 13,
   "id": "7b19ecf5-82ad-4060-89fe-b0e2069a05e9",
   "metadata": {},
   "outputs": [],
   "source": [
    "# DataSet de Validación\n",
    "X_val = val_set.drop(\"Product\", axis = 1)\n",
    "y_val = val_set[\"Product\"].copy()"
   ]
  },
  {
   "cell_type": "code",
   "execution_count": 14,
   "id": "5ecabfc5-f33b-49cf-813f-f7bb5b3f299c",
   "metadata": {},
   "outputs": [],
   "source": [
    "# DataSet para Pruebas\n",
    "X_test = test_set.drop(\"Product\", axis = 1)\n",
    "y_test = test_set[\"Product\"].copy()"
   ]
  },
  {
   "cell_type": "code",
   "execution_count": null,
   "id": "57e70c37-5b16-4ee0-9598-d3127cccc89f",
   "metadata": {},
   "outputs": [],
   "source": []
  },
  {
   "cell_type": "code",
   "execution_count": 15,
   "id": "03be51b5-b725-45d3-85b8-eae7e5b2e836",
   "metadata": {},
   "outputs": [],
   "source": [
    "# Instancear el transformador personalizado\n",
    "data_preparer = DataFramePreparer()"
   ]
  },
  {
   "cell_type": "code",
   "execution_count": null,
   "id": "694c6829-1802-4092-bf1b-6050aed36774",
   "metadata": {},
   "outputs": [],
   "source": [
    "# Hacer el fit con el DataSet general para que adquiera todos los valores posibles.\n",
    "data_preparer.fit(X_data)"
   ]
  },
  {
   "cell_type": "code",
   "execution_count": null,
   "id": "f75d3990-d083-4977-a561-666351ca20d3",
   "metadata": {},
   "outputs": [],
   "source": [
    "# Transformar el DataSet de Entrenamiento.\n",
    "X_train_prep = data_preparer.transform(X_train)"
   ]
  },
  {
   "cell_type": "code",
   "execution_count": null,
   "id": "c436e266-5c4d-4a89-a048-b1b9222d5682",
   "metadata": {},
   "outputs": [],
   "source": [
    "X_train_prep.head(5)"
   ]
  },
  {
   "cell_type": "code",
   "execution_count": null,
   "id": "14ea468d-59a3-4711-9253-d25f2bb111f4",
   "metadata": {},
   "outputs": [],
   "source": []
  },
  {
   "cell_type": "code",
   "execution_count": null,
   "id": "50d2f483-7a83-4777-ab37-548e86418897",
   "metadata": {},
   "outputs": [],
   "source": [
    "from sklearn.linear_model import LogisticRegression\n",
    "\n",
    "clf = LogisticRegression(max_iter = 5000)\n",
    "clf.fit(X_train_prep, y_train)"
   ]
  },
  {
   "cell_type": "code",
   "execution_count": null,
   "id": "b041635a-2265-4517-bcab-786147768975",
   "metadata": {},
   "outputs": [],
   "source": []
  },
  {
   "cell_type": "code",
   "execution_count": null,
   "id": "426f2b93-0b77-4fbe-a565-8eef3e4d6ffe",
   "metadata": {},
   "outputs": [],
   "source": [
    "y_prep = clf.predict(X_val_prep)"
   ]
  },
  {
   "cell_type": "code",
   "execution_count": null,
   "id": "832cfe3a-4067-4778-b10d-e8152f60831a",
   "metadata": {},
   "outputs": [],
   "source": [
    "from sklearn.metrics import confusion_matrix\n",
    "#plot_confusion_matrix(clf, X_val_prep, y_val, values_format=\"3g\")\n",
    "confusion_matrix(y_val, y_prep)"
   ]
  },
  {
   "cell_type": "code",
   "execution_count": null,
   "id": "4a336990-6817-4637-b73d-64a20e5322ac",
   "metadata": {},
   "outputs": [],
   "source": [
    "from sklearn.metrics import ConfusionMatrixDisplay\n",
    "\n",
    "ConfusionMatrixDisplay.from_estimator(clf, X_val_prep, y_val, values_format=\"3g\")"
   ]
  },
  {
   "cell_type": "code",
   "execution_count": null,
   "id": "f001dc52-a1e8-4ff0-9fc5-3804c45d7a6c",
   "metadata": {},
   "outputs": [],
   "source": [
    "from sklearn.metrics import precision_score\n",
    "print(\"Presición:\", precision_score(y_val, y_prep, pos_label=\"Total\"))"
   ]
  },
  {
   "cell_type": "code",
   "execution_count": null,
   "id": "dec11254-0aed-4bac-875f-1c16ea178b04",
   "metadata": {},
   "outputs": [],
   "source": [
    "from sklearn.metrics import recall_score\n",
    "print(\"Recall:\", recall_score(y_val, y_prep, pos_label=\"Total\"))"
   ]
  },
  {
   "cell_type": "code",
   "execution_count": null,
   "id": "eda17fb2-772c-402f-9727-9ca7cdbf2ff5",
   "metadata": {},
   "outputs": [],
   "source": [
    "from sklearn.metrics import RocCurveDisplay\n",
    "\n",
    "RocCurveDisplay.from_estimator(clf, X_val_prep, y_val)"
   ]
  },
  {
   "cell_type": "code",
   "execution_count": null,
   "id": "58491af9-52ba-40cb-99ce-b10228371ebe",
   "metadata": {},
   "outputs": [],
   "source": [
    "from sklearn.metrics import PrecisionRecallDisplay\n",
    "\n",
    "PrecisionRecallDisplay.from_estimator(clf, X_val_prep, y_val)"
   ]
  },
  {
   "cell_type": "code",
   "execution_count": null,
   "id": "ace5586e-44a2-4926-8a35-f5afac5d8064",
   "metadata": {},
   "outputs": [],
   "source": [
    "X_test_prep = data_preparer.transform(X_test)\n",
    "y_pred = clf.predict(X_test_prep)"
   ]
  },
  {
   "cell_type": "code",
   "execution_count": null,
   "id": "79dea24d-dc97-4ba7-b49f-0d7e779c981f",
   "metadata": {},
   "outputs": [],
   "source": [
    "from sklearn.metrics import ConfusionMatrixDisplay\n",
    "\n",
    "ConfusionMatrixDisplay.from_estimator(clf, X_val_prep, y_val, values_format=\"3g\")"
   ]
  },
  {
   "cell_type": "code",
   "execution_count": null,
   "id": "a460fa13-5212-464d-be8e-35c9502d883e",
   "metadata": {},
   "outputs": [],
   "source": [
    "from sklearn.metrics import f1_score\n",
    "print(\"F1 score:\", f1_score(y_test, y_pred, pos_label=\"Total\"))"
   ]
  }
 ],
 "metadata": {
  "kernelspec": {
   "display_name": "Python 3 (ipykernel)",
   "language": "python",
   "name": "python3"
  },
  "language_info": {
   "codemirror_mode": {
    "name": "ipython",
    "version": 3
   },
   "file_extension": ".py",
   "mimetype": "text/x-python",
   "name": "python",
   "nbconvert_exporter": "python",
   "pygments_lexer": "ipython3",
   "version": "3.12.5"
  }
 },
 "nbformat": 4,
 "nbformat_minor": 5
}
