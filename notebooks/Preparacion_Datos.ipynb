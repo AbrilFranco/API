{
 "cells": [
  {
   "cell_type": "markdown",
   "id": "394de104-fa49-404e-821f-5ca2e749476e",
   "metadata": {},
   "source": [
    "# Preparacion del DataSet"
   ]
  },
  {
   "cell_type": "code",
   "execution_count": 16,
   "id": "0a9b63de-47dd-4b74-b3c7-abdce8aa0a5b",
   "metadata": {},
   "outputs": [],
   "source": [
    "# Importar bibliotecas necesarias\n",
    "import pandas as pd\n",
    "from sklearn.model_selection import train_test_split\n"
   ]
  },
  {
   "cell_type": "markdown",
   "id": "23af6e82-8361-4c47-91a9-26fc7dbf34ba",
   "metadata": {},
   "source": [
    "## Lectura del dataset"
   ]
  },
  {
   "cell_type": "code",
   "execution_count": 24,
   "id": "7f5cac27-e19c-4831-bd6d-c431692ff023",
   "metadata": {},
   "outputs": [],
   "source": [
    "# Leer el dataset\n",
    "file_path = '/home/abril/anaconda3/envs/Simulacion/datasets/datasets/sales_dataset_50000.csv'  \n",
    "data = pd.read_csv(file_path)"
   ]
  },
  {
   "cell_type": "code",
   "execution_count": 45,
   "id": "48283119-8700-4124-a505-068f023ab3dd",
   "metadata": {},
   "outputs": [
    {
     "data": {
      "text/html": [
       "<div>\n",
       "<style scoped>\n",
       "    .dataframe tbody tr th:only-of-type {\n",
       "        vertical-align: middle;\n",
       "    }\n",
       "\n",
       "    .dataframe tbody tr th {\n",
       "        vertical-align: top;\n",
       "    }\n",
       "\n",
       "    .dataframe thead th {\n",
       "        text-align: right;\n",
       "    }\n",
       "</style>\n",
       "<table border=\"1\" class=\"dataframe\">\n",
       "  <thead>\n",
       "    <tr style=\"text-align: right;\">\n",
       "      <th></th>\n",
       "      <th>Transaction_ID</th>\n",
       "      <th>Date</th>\n",
       "      <th>Product</th>\n",
       "      <th>Category</th>\n",
       "      <th>Quantity_Sold</th>\n",
       "      <th>Unit_Price</th>\n",
       "      <th>Discount</th>\n",
       "      <th>Region</th>\n",
       "      <th>Payment_Method</th>\n",
       "      <th>Total</th>\n",
       "    </tr>\n",
       "  </thead>\n",
       "  <tbody>\n",
       "    <tr>\n",
       "      <th>0</th>\n",
       "      <td>4c98f095-7aa9-4e73-a94b-a79e84c83cc7</td>\n",
       "      <td>2024-12-07</td>\n",
       "      <td>Smartphone</td>\n",
       "      <td>Electronics</td>\n",
       "      <td>9</td>\n",
       "      <td>958.94</td>\n",
       "      <td>0.15</td>\n",
       "      <td>South</td>\n",
       "      <td>Cash</td>\n",
       "      <td>7335.89</td>\n",
       "    </tr>\n",
       "    <tr>\n",
       "      <th>1</th>\n",
       "      <td>68ff3320-6da2-4747-8851-b6aa687445ab</td>\n",
       "      <td>2023-05-10</td>\n",
       "      <td>Monitor</td>\n",
       "      <td>Peripherals</td>\n",
       "      <td>4</td>\n",
       "      <td>1045.36</td>\n",
       "      <td>0.39</td>\n",
       "      <td>North</td>\n",
       "      <td>Credit Card</td>\n",
       "      <td>2550.68</td>\n",
       "    </tr>\n",
       "    <tr>\n",
       "      <th>2</th>\n",
       "      <td>b48d6d6a-fdf3-4f0d-9da5-6c511bf016d5</td>\n",
       "      <td>2024-03-02</td>\n",
       "      <td>Laptop</td>\n",
       "      <td>Electronics</td>\n",
       "      <td>7</td>\n",
       "      <td>1929.63</td>\n",
       "      <td>0.49</td>\n",
       "      <td>West</td>\n",
       "      <td>Credit Card</td>\n",
       "      <td>6888.78</td>\n",
       "    </tr>\n",
       "    <tr>\n",
       "      <th>3</th>\n",
       "      <td>ac017db5-a08e-471c-a685-bec091e29345</td>\n",
       "      <td>2023-12-01</td>\n",
       "      <td>Headphones</td>\n",
       "      <td>Accessories</td>\n",
       "      <td>9</td>\n",
       "      <td>710.64</td>\n",
       "      <td>0.41</td>\n",
       "      <td>West</td>\n",
       "      <td>Credit Card</td>\n",
       "      <td>3773.50</td>\n",
       "    </tr>\n",
       "    <tr>\n",
       "      <th>4</th>\n",
       "      <td>571c3ded-3a36-451b-940a-dd489d1c303b</td>\n",
       "      <td>2024-12-31</td>\n",
       "      <td>Tablet</td>\n",
       "      <td>Electronics</td>\n",
       "      <td>2</td>\n",
       "      <td>14.76</td>\n",
       "      <td>0.01</td>\n",
       "      <td>East</td>\n",
       "      <td>Cash</td>\n",
       "      <td>29.22</td>\n",
       "    </tr>\n",
       "    <tr>\n",
       "      <th>...</th>\n",
       "      <td>...</td>\n",
       "      <td>...</td>\n",
       "      <td>...</td>\n",
       "      <td>...</td>\n",
       "      <td>...</td>\n",
       "      <td>...</td>\n",
       "      <td>...</td>\n",
       "      <td>...</td>\n",
       "      <td>...</td>\n",
       "      <td>...</td>\n",
       "    </tr>\n",
       "    <tr>\n",
       "      <th>49995</th>\n",
       "      <td>8593e5c4-ebda-4003-bf66-3f256fd915de</td>\n",
       "      <td>2024-11-07</td>\n",
       "      <td>Keyboard</td>\n",
       "      <td>Accessories</td>\n",
       "      <td>7</td>\n",
       "      <td>318.21</td>\n",
       "      <td>0.12</td>\n",
       "      <td>West</td>\n",
       "      <td>Cash</td>\n",
       "      <td>1960.17</td>\n",
       "    </tr>\n",
       "    <tr>\n",
       "      <th>49996</th>\n",
       "      <td>ee6933c4-c88f-4618-8486-721a3bcc0ad0</td>\n",
       "      <td>2023-12-14</td>\n",
       "      <td>Laptop</td>\n",
       "      <td>Accessories</td>\n",
       "      <td>8</td>\n",
       "      <td>1225.89</td>\n",
       "      <td>0.33</td>\n",
       "      <td>South</td>\n",
       "      <td>Bank Transfer</td>\n",
       "      <td>6570.77</td>\n",
       "    </tr>\n",
       "    <tr>\n",
       "      <th>49997</th>\n",
       "      <td>28a576ad-b0b8-4958-b17c-20f8bbabf2d4</td>\n",
       "      <td>2023-07-25</td>\n",
       "      <td>Headphones</td>\n",
       "      <td>Accessories</td>\n",
       "      <td>4</td>\n",
       "      <td>1308.80</td>\n",
       "      <td>0.26</td>\n",
       "      <td>West</td>\n",
       "      <td>Bank Transfer</td>\n",
       "      <td>3874.05</td>\n",
       "    </tr>\n",
       "    <tr>\n",
       "      <th>49998</th>\n",
       "      <td>ee8f8bab-4e4d-47c7-9fc7-4a0d54481a19</td>\n",
       "      <td>2024-09-07</td>\n",
       "      <td>Headphones</td>\n",
       "      <td>Electronics</td>\n",
       "      <td>4</td>\n",
       "      <td>1447.92</td>\n",
       "      <td>0.03</td>\n",
       "      <td>West</td>\n",
       "      <td>Bank Transfer</td>\n",
       "      <td>5617.93</td>\n",
       "    </tr>\n",
       "    <tr>\n",
       "      <th>49999</th>\n",
       "      <td>03dc9a60-16e3-469c-b7e9-9d30bcadb28f</td>\n",
       "      <td>2024-06-19</td>\n",
       "      <td>Keyboard</td>\n",
       "      <td>Electronics</td>\n",
       "      <td>2</td>\n",
       "      <td>1266.30</td>\n",
       "      <td>0.04</td>\n",
       "      <td>West</td>\n",
       "      <td>Credit Card</td>\n",
       "      <td>2431.30</td>\n",
       "    </tr>\n",
       "  </tbody>\n",
       "</table>\n",
       "<p>50000 rows × 10 columns</p>\n",
       "</div>"
      ],
      "text/plain": [
       "                             Transaction_ID        Date     Product  \\\n",
       "0      4c98f095-7aa9-4e73-a94b-a79e84c83cc7  2024-12-07  Smartphone   \n",
       "1      68ff3320-6da2-4747-8851-b6aa687445ab  2023-05-10     Monitor   \n",
       "2      b48d6d6a-fdf3-4f0d-9da5-6c511bf016d5  2024-03-02      Laptop   \n",
       "3      ac017db5-a08e-471c-a685-bec091e29345  2023-12-01  Headphones   \n",
       "4      571c3ded-3a36-451b-940a-dd489d1c303b  2024-12-31      Tablet   \n",
       "...                                     ...         ...         ...   \n",
       "49995  8593e5c4-ebda-4003-bf66-3f256fd915de  2024-11-07    Keyboard   \n",
       "49996  ee6933c4-c88f-4618-8486-721a3bcc0ad0  2023-12-14      Laptop   \n",
       "49997  28a576ad-b0b8-4958-b17c-20f8bbabf2d4  2023-07-25  Headphones   \n",
       "49998  ee8f8bab-4e4d-47c7-9fc7-4a0d54481a19  2024-09-07  Headphones   \n",
       "49999  03dc9a60-16e3-469c-b7e9-9d30bcadb28f  2024-06-19    Keyboard   \n",
       "\n",
       "          Category  Quantity_Sold  Unit_Price  Discount Region Payment_Method  \\\n",
       "0      Electronics              9      958.94      0.15  South           Cash   \n",
       "1      Peripherals              4     1045.36      0.39  North    Credit Card   \n",
       "2      Electronics              7     1929.63      0.49   West    Credit Card   \n",
       "3      Accessories              9      710.64      0.41   West    Credit Card   \n",
       "4      Electronics              2       14.76      0.01   East           Cash   \n",
       "...            ...            ...         ...       ...    ...            ...   \n",
       "49995  Accessories              7      318.21      0.12   West           Cash   \n",
       "49996  Accessories              8     1225.89      0.33  South  Bank Transfer   \n",
       "49997  Accessories              4     1308.80      0.26   West  Bank Transfer   \n",
       "49998  Electronics              4     1447.92      0.03   West  Bank Transfer   \n",
       "49999  Electronics              2     1266.30      0.04   West    Credit Card   \n",
       "\n",
       "         Total  \n",
       "0      7335.89  \n",
       "1      2550.68  \n",
       "2      6888.78  \n",
       "3      3773.50  \n",
       "4        29.22  \n",
       "...        ...  \n",
       "49995  1960.17  \n",
       "49996  6570.77  \n",
       "49997  3874.05  \n",
       "49998  5617.93  \n",
       "49999  2431.30  \n",
       "\n",
       "[50000 rows x 10 columns]"
      ]
     },
     "execution_count": 45,
     "metadata": {},
     "output_type": "execute_result"
    }
   ],
   "source": [
    "data"
   ]
  },
  {
   "cell_type": "code",
   "execution_count": 25,
   "id": "27afa7a3-64d0-4ec5-b1f9-93281df64bff",
   "metadata": {},
   "outputs": [
    {
     "name": "stdout",
     "output_type": "stream",
     "text": [
      "Primeras filas del dataset:\n",
      "                         Transaction_ID        Date     Product     Category  \\\n",
      "0  4c98f095-7aa9-4e73-a94b-a79e84c83cc7  2024-12-07  Smartphone  Electronics   \n",
      "1  68ff3320-6da2-4747-8851-b6aa687445ab  2023-05-10     Monitor  Peripherals   \n",
      "2  b48d6d6a-fdf3-4f0d-9da5-6c511bf016d5  2024-03-02      Laptop  Electronics   \n",
      "3  ac017db5-a08e-471c-a685-bec091e29345  2023-12-01  Headphones  Accessories   \n",
      "4  571c3ded-3a36-451b-940a-dd489d1c303b  2024-12-31      Tablet  Electronics   \n",
      "\n",
      "   Quantity_Sold  Unit_Price  Discount Region Payment_Method    Total  \n",
      "0              9      958.94      0.15  South           Cash  7335.89  \n",
      "1              4     1045.36      0.39  North    Credit Card  2550.68  \n",
      "2              7     1929.63      0.49   West    Credit Card  6888.78  \n",
      "3              9      710.64      0.41   West    Credit Card  3773.50  \n",
      "4              2       14.76      0.01   East           Cash    29.22  \n"
     ]
    }
   ],
   "source": [
    "# Mostrar información básica del dataset\n",
    "print(\"Primeras filas del dataset:\")\n",
    "print(data.head())"
   ]
  },
  {
   "cell_type": "code",
   "execution_count": 26,
   "id": "416176f5-afe9-4d14-8dd3-fefdc5fdb3fe",
   "metadata": {},
   "outputs": [
    {
     "name": "stdout",
     "output_type": "stream",
     "text": [
      "\n",
      "Información general del dataset:\n",
      "<class 'pandas.core.frame.DataFrame'>\n",
      "RangeIndex: 50000 entries, 0 to 49999\n",
      "Data columns (total 10 columns):\n",
      " #   Column          Non-Null Count  Dtype  \n",
      "---  ------          --------------  -----  \n",
      " 0   Transaction_ID  50000 non-null  object \n",
      " 1   Date            50000 non-null  object \n",
      " 2   Product         50000 non-null  object \n",
      " 3   Category        50000 non-null  object \n",
      " 4   Quantity_Sold   50000 non-null  int64  \n",
      " 5   Unit_Price      50000 non-null  float64\n",
      " 6   Discount        50000 non-null  float64\n",
      " 7   Region          50000 non-null  object \n",
      " 8   Payment_Method  50000 non-null  object \n",
      " 9   Total           50000 non-null  float64\n",
      "dtypes: float64(3), int64(1), object(6)\n",
      "memory usage: 3.8+ MB\n",
      "None\n"
     ]
    }
   ],
   "source": [
    "print(\"\\nInformación general del dataset:\")\n",
    "print(data.info())"
   ]
  },
  {
   "cell_type": "code",
   "execution_count": 27,
   "id": "4989d61c-4ba0-4408-b0e1-099eec4e2c05",
   "metadata": {},
   "outputs": [],
   "source": [
    "# División en entrenamiento (80%) y prueba (20%)\n",
    "train_data, test_data = train_test_split(data, test_size=0.2, random_state=42)"
   ]
  },
  {
   "cell_type": "code",
   "execution_count": 28,
   "id": "d191eff8-31f9-4ca8-926b-d1965cfd1bd0",
   "metadata": {},
   "outputs": [
    {
     "name": "stdout",
     "output_type": "stream",
     "text": [
      "Conjunto de entrenamiento: (40000, 10)\n",
      "Conjunto de prueba: (10000, 10)\n"
     ]
    }
   ],
   "source": [
    "# Verificar las dimensiones de los conjuntos\n",
    "print(\"Conjunto de entrenamiento:\", train_data.shape)\n",
    "print(\"Conjunto de prueba:\", test_data.shape)"
   ]
  },
  {
   "cell_type": "markdown",
   "id": "16542b35-8d38-4782-aa9b-b30792ef1b49",
   "metadata": {},
   "source": [
    "## Divicion del DataSet"
   ]
  },
  {
   "cell_type": "code",
   "execution_count": 29,
   "id": "0c59d4d9-50d8-4dfd-8c9b-f51edfb8ad0b",
   "metadata": {},
   "outputs": [],
   "source": [
    "from sklearn.model_selection import train_test_split\n",
    "\n",
    "# División en entrenamiento, validación y prueba\n",
    "def train_val_test_split(df, random_state=42, stratify=None):\n",
    "    \"\"\"\n",
    "    Divide un DataFrame en entrenamiento (60%), validación (20%) y prueba (20%).\n",
    "    \n",
    "    Args:\n",
    "        df (DataFrame): El dataset a dividir.\n",
    "        random_state (int): Semilla para garantizar reproducibilidad.\n",
    "        stratify (str): Columna para estratificación (opcional).\n",
    "        \n",
    "    Returns:\n",
    "        tuple: DataFrames para entrenamiento, validación y prueba.\n",
    "    \"\"\"\n",
    "    strat = df[stratify] if stratify else None\n",
    "    train_set, temp_set = train_test_split(\n",
    "        df, test_size=0.4, random_state=random_state, stratify=strat)\n",
    "    strat_temp = temp_set[stratify] if stratify else None\n",
    "    val_set, test_set = train_test_split(\n",
    "        temp_set, test_size=0.5, random_state=random_state, stratify=strat_temp)\n",
    "    return train_set, val_set, test_set"
   ]
  },
  {
   "cell_type": "code",
   "execution_count": 31,
   "id": "f1ca4122-2b19-40cf-9cec-fc3bb3da1197",
   "metadata": {},
   "outputs": [],
   "source": [
    "# Aplicar la función al dataset\n",
    "train_data, val_data, test_data = train_val_test_split(data)"
   ]
  },
  {
   "cell_type": "code",
   "execution_count": 32,
   "id": "bde4741e-aca1-4dc9-adea-cdfb4f2934cd",
   "metadata": {},
   "outputs": [
    {
     "name": "stdout",
     "output_type": "stream",
     "text": [
      "Tamaño del conjunto de entrenamiento: (30000, 10)\n",
      "Tamaño del conjunto de validación: (10000, 10)\n",
      "Tamaño del conjunto de prueba: (10000, 10)\n"
     ]
    }
   ],
   "source": [
    "# Verificar las dimensiones de los conjuntos\n",
    "print(\"Tamaño del conjunto de entrenamiento:\", train_data.shape)\n",
    "print(\"Tamaño del conjunto de validación:\", val_data.shape)\n",
    "print(\"Tamaño del conjunto de prueba:\", test_data.shape)"
   ]
  },
  {
   "cell_type": "code",
   "execution_count": 33,
   "id": "2781f0e8-1c79-44b2-8f10-d7f622a7ad45",
   "metadata": {},
   "outputs": [],
   "source": [
    "# Guardar los conjuntos en archivos CSV (opcional)\n",
    "train_data.to_csv('train_data.csv', index=False)\n",
    "val_data.to_csv('val_data.csv', index=False)\n",
    "test_data.to_csv('test_data.csv', index=False)"
   ]
  },
  {
   "cell_type": "markdown",
   "id": "bd8ef832-b465-4ff9-b419-b7f3d63567fb",
   "metadata": {},
   "source": [
    "## Limpiando Datos"
   ]
  },
  {
   "cell_type": "code",
   "execution_count": 34,
   "id": "6c62b3c8-c665-403a-945c-2016c9dc4212",
   "metadata": {},
   "outputs": [],
   "source": [
    "# Importar bibliotecas necesarias\n",
    "import pandas as pd\n",
    "import numpy as np"
   ]
  },
  {
   "cell_type": "code",
   "execution_count": 35,
   "id": "bb4cfb34-0a16-436b-98b0-88abf8ee3abe",
   "metadata": {},
   "outputs": [],
   "source": [
    "# 1. Manejo de valores nulos\n",
    "def handle_missing_values(df, strategy=\"drop\", fill_value=None):\n",
    "    \"\"\"\n",
    "    Maneja valores nulos en un DataFrame.\n",
    "\n",
    "    Args:\n",
    "        df (DataFrame): El dataset a procesar.\n",
    "        strategy (str): Estrategia para manejar valores nulos (\"drop\" o \"fill\").\n",
    "        fill_value (any): Valor con el que llenar valores nulos si strategy=\"fill\".\n",
    "        \n",
    "    Returns:\n",
    "        DataFrame: El dataset procesado.\n",
    "    \"\"\"\n",
    "    if strategy == \"drop\":\n",
    "        return df.dropna()\n",
    "    elif strategy == \"fill\":\n",
    "        return df.fillna(fill_value)\n",
    "    else:\n",
    "        raise ValueError(\"Estrategia no válida: elige 'drop' o 'fill'.\")"
   ]
  },
  {
   "cell_type": "code",
   "execution_count": 36,
   "id": "8811d4c9-d564-4de5-b92e-6bc553973f79",
   "metadata": {},
   "outputs": [],
   "source": [
    "# 2. Eliminación de duplicados\n",
    "def remove_duplicates(df):\n",
    "    \"\"\"\n",
    "    Elimina filas duplicadas en un DataFrame.\n",
    "\n",
    "    Args:\n",
    "        df (DataFrame): El dataset a procesar.\n",
    "        \n",
    "    Returns:\n",
    "        DataFrame: El dataset sin duplicados.\n",
    "    \"\"\"\n",
    "    return df.drop_duplicates()"
   ]
  },
  {
   "cell_type": "code",
   "execution_count": 37,
   "id": "1d49e79e-5e62-4a55-91d3-a6f428314d55",
   "metadata": {},
   "outputs": [],
   "source": [
    "# 3. Manejo de valores atípicos\n",
    "def remove_outliers(df, columns, threshold=3):\n",
    "    \"\"\"\n",
    "    Elimina valores atípicos basados en el Z-score.\n",
    "\n",
    "    Args:\n",
    "        df (DataFrame): El dataset a procesar.\n",
    "        columns (list): Columnas a analizar para valores atípicos.\n",
    "        threshold (float): Umbral para identificar valores atípicos (default: 3).\n",
    "        \n",
    "    Returns:\n",
    "        DataFrame: El dataset sin valores atípicos.\n",
    "    \"\"\"\n",
    "    for col in columns:\n",
    "        if df[col].dtype in [np.float64, np.int64]:\n",
    "            z_scores = (df[col] - df[col].mean()) / df[col].std()\n",
    "            df = df[np.abs(z_scores) < threshold]\n",
    "    return df"
   ]
  },
  {
   "cell_type": "code",
   "execution_count": 38,
   "id": "778aa06a-601a-488b-acdc-8711c3034d8c",
   "metadata": {},
   "outputs": [],
   "source": [
    "# 4. Validación de columnas (ejemplo: verificar consistencia en cálculos)\n",
    "def validate_totals(df):\n",
    "    \"\"\"\n",
    "    Verifica que la columna 'Total' sea consistente con los cálculos de otras columnas.\n",
    "\n",
    "    Args:\n",
    "        df (DataFrame): El dataset a procesar.\n",
    "        \n",
    "    Returns:\n",
    "        DataFrame: El dataset con filas inconsistentes eliminadas.\n",
    "    \"\"\"\n",
    "    df['Calculated_Total'] = df['Quantity_Sold'] * df['Unit_Price'] * (1 - df['Discount'])\n",
    "    return df[np.isclose(df['Total'], df['Calculated_Total'], atol=1e-2)]\n"
   ]
  },
  {
   "cell_type": "code",
   "execution_count": 39,
   "id": "252f0674-2820-467d-bf8b-f47ca1e90712",
   "metadata": {},
   "outputs": [],
   "source": [
    "# Aplicar las funciones al dataset\n",
    "# 1. Manejar valores nulos (estrategia de llenado con ceros como ejemplo)\n",
    "data_cleaned = handle_missing_values(data, strategy=\"fill\", fill_value=0)\n"
   ]
  },
  {
   "cell_type": "code",
   "execution_count": 40,
   "id": "74feb111-c720-45d3-9e92-0be7f1711d3c",
   "metadata": {},
   "outputs": [],
   "source": [
    "# 2. Eliminar duplicados\n",
    "data_cleaned = remove_duplicates(data_cleaned)\n"
   ]
  },
  {
   "cell_type": "code",
   "execution_count": 41,
   "id": "9efcccbf-c3cf-4f13-ab47-9f6e03d25dee",
   "metadata": {},
   "outputs": [],
   "source": [
    "# 3. Eliminar valores atípicos (aplicado a columnas numéricas)\n",
    "numeric_columns = ['Quantity_Sold', 'Unit_Price', 'Discount', 'Total']\n",
    "data_cleaned = remove_outliers(data_cleaned, numeric_columns)\n"
   ]
  },
  {
   "cell_type": "code",
   "execution_count": 42,
   "id": "48fb997c-e067-4c49-ae5b-0227fb442e84",
   "metadata": {},
   "outputs": [],
   "source": [
    " # 4. Validar consistencia de cálculos\n",
    "data_cleaned = validate_totals(data_cleaned)"
   ]
  },
  {
   "cell_type": "code",
   "execution_count": 43,
   "id": "d3e20184-15db-4ddf-a0cd-43b4a6a48e79",
   "metadata": {},
   "outputs": [
    {
     "name": "stdout",
     "output_type": "stream",
     "text": [
      "Datos limpios:\n",
      "                         Transaction_ID        Date     Product     Category  \\\n",
      "0  4c98f095-7aa9-4e73-a94b-a79e84c83cc7  2024-12-07  Smartphone  Electronics   \n",
      "1  68ff3320-6da2-4747-8851-b6aa687445ab  2023-05-10     Monitor  Peripherals   \n",
      "2  b48d6d6a-fdf3-4f0d-9da5-6c511bf016d5  2024-03-02      Laptop  Electronics   \n",
      "3  ac017db5-a08e-471c-a685-bec091e29345  2023-12-01  Headphones  Accessories   \n",
      "4  571c3ded-3a36-451b-940a-dd489d1c303b  2024-12-31      Tablet  Electronics   \n",
      "\n",
      "   Quantity_Sold  Unit_Price  Discount Region Payment_Method    Total  \\\n",
      "0              9      958.94      0.15  South           Cash  7335.89   \n",
      "1              4     1045.36      0.39  North    Credit Card  2550.68   \n",
      "2              7     1929.63      0.49   West    Credit Card  6888.78   \n",
      "3              9      710.64      0.41   West    Credit Card  3773.50   \n",
      "4              2       14.76      0.01   East           Cash    29.22   \n",
      "\n",
      "   Calculated_Total  \n",
      "0         7335.8910  \n",
      "1         2550.6784  \n",
      "2         6888.7791  \n",
      "3         3773.4984  \n",
      "4           29.2248  \n",
      "\n",
      "Tamaño del dataset limpio: (49453, 11)\n"
     ]
    }
   ],
   "source": [
    "# Verificar el resultado final\n",
    "print(\"Datos limpios:\")\n",
    "print(data_cleaned.head())\n",
    "print(\"\\nTamaño del dataset limpio:\", data_cleaned.shape)"
   ]
  },
  {
   "cell_type": "code",
   "execution_count": 44,
   "id": "d76c4627-9c89-4cde-a4d6-874870b385ee",
   "metadata": {},
   "outputs": [],
   "source": [
    "# Guardar el dataset limpio en un archivo CSV\n",
    "data_cleaned.to_csv('cleaned_data.csv', index=False)"
   ]
  },
  {
   "cell_type": "code",
   "execution_count": null,
   "id": "21b8366e-e535-40c3-9068-b8ae9be5902f",
   "metadata": {},
   "outputs": [],
   "source": []
  }
 ],
 "metadata": {
  "kernelspec": {
   "display_name": "Python 3 (ipykernel)",
   "language": "python",
   "name": "python3"
  },
  "language_info": {
   "codemirror_mode": {
    "name": "ipython",
    "version": 3
   },
   "file_extension": ".py",
   "mimetype": "text/x-python",
   "name": "python",
   "nbconvert_exporter": "python",
   "pygments_lexer": "ipython3",
   "version": "3.12.5"
  }
 },
 "nbformat": 4,
 "nbformat_minor": 5
}
